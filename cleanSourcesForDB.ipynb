{
 "cells": [
  {
   "cell_type": "code",
   "execution_count": 1,
   "metadata": {},
   "outputs": [],
   "source": [
    "import pandas as pd"
   ]
  },
  {
   "cell_type": "code",
   "execution_count": 2,
   "metadata": {},
   "outputs": [],
   "source": [
    "SOURCES = './_output/sources.csv'\n",
    "SOURCES_CLEAN = './_output/sources_clean.csv'"
   ]
  },
  {
   "cell_type": "code",
   "execution_count": 3,
   "metadata": {},
   "outputs": [],
   "source": [
    "df_sources = pd.read_csv(SOURCES)"
   ]
  },
  {
   "cell_type": "code",
   "execution_count": 4,
   "metadata": {},
   "outputs": [
    {
     "data": {
      "text/html": [
       "<div>\n",
       "<style scoped>\n",
       "    .dataframe tbody tr th:only-of-type {\n",
       "        vertical-align: middle;\n",
       "    }\n",
       "\n",
       "    .dataframe tbody tr th {\n",
       "        vertical-align: top;\n",
       "    }\n",
       "\n",
       "    .dataframe thead th {\n",
       "        text-align: right;\n",
       "    }\n",
       "</style>\n",
       "<table border=\"1\" class=\"dataframe\">\n",
       "  <thead>\n",
       "    <tr style=\"text-align: right;\">\n",
       "      <th></th>\n",
       "      <th>id</th>\n",
       "      <th>corporation</th>\n",
       "      <th>infodate</th>\n",
       "      <th>texte</th>\n",
       "    </tr>\n",
       "  </thead>\n",
       "  <tbody>\n",
       "    <tr>\n",
       "      <th>0</th>\n",
       "      <td>304754</td>\n",
       "      <td>2100</td>\n",
       "      <td>31/12/1912</td>\n",
       "      <td>Répartition des bénéfices : effectuée suivant ...</td>\n",
       "    </tr>\n",
       "    <tr>\n",
       "      <th>1</th>\n",
       "      <td>304770</td>\n",
       "      <td>148</td>\n",
       "      <td>31/12/1912</td>\n",
       "      <td>Répartition des bénéfices : effectuée suivant ...</td>\n",
       "    </tr>\n",
       "    <tr>\n",
       "      <th>2</th>\n",
       "      <td>304789</td>\n",
       "      <td>436</td>\n",
       "      <td>31/12/1912</td>\n",
       "      <td>Répartition des bénéfices : effectuée suivant ...</td>\n",
       "    </tr>\n",
       "    <tr>\n",
       "      <th>3</th>\n",
       "      <td>304815</td>\n",
       "      <td>3246</td>\n",
       "      <td>31/12/1912</td>\n",
       "      <td>Répartition des bénéfices : 5 % d'intérêt aux ...</td>\n",
       "    </tr>\n",
       "    <tr>\n",
       "      <th>4</th>\n",
       "      <td>304830</td>\n",
       "      <td>3524</td>\n",
       "      <td>31/12/1912</td>\n",
       "      <td>Répartition des bénéfices : 20 % à la réserve ...</td>\n",
       "    </tr>\n",
       "  </tbody>\n",
       "</table>\n",
       "</div>"
      ],
      "text/plain": [
       "       id  corporation    infodate  \\\n",
       "0  304754         2100  31/12/1912   \n",
       "1  304770          148  31/12/1912   \n",
       "2  304789          436  31/12/1912   \n",
       "3  304815         3246  31/12/1912   \n",
       "4  304830         3524  31/12/1912   \n",
       "\n",
       "                                               texte  \n",
       "0  Répartition des bénéfices : effectuée suivant ...  \n",
       "1  Répartition des bénéfices : effectuée suivant ...  \n",
       "2  Répartition des bénéfices : effectuée suivant ...  \n",
       "3  Répartition des bénéfices : 5 % d'intérêt aux ...  \n",
       "4  Répartition des bénéfices : 20 % à la réserve ...  "
      ]
     },
     "execution_count": 4,
     "metadata": {},
     "output_type": "execute_result"
    }
   ],
   "source": [
    "df_sources.head()"
   ]
  },
  {
   "cell_type": "code",
   "execution_count": 5,
   "metadata": {},
   "outputs": [
    {
     "data": {
      "text/html": [
       "<div>\n",
       "<style scoped>\n",
       "    .dataframe tbody tr th:only-of-type {\n",
       "        vertical-align: middle;\n",
       "    }\n",
       "\n",
       "    .dataframe tbody tr th {\n",
       "        vertical-align: top;\n",
       "    }\n",
       "\n",
       "    .dataframe thead th {\n",
       "        text-align: right;\n",
       "    }\n",
       "</style>\n",
       "<table border=\"1\" class=\"dataframe\">\n",
       "  <thead>\n",
       "    <tr style=\"text-align: right;\">\n",
       "      <th></th>\n",
       "      <th>corporation</th>\n",
       "      <th>infodate</th>\n",
       "      <th>texte</th>\n",
       "    </tr>\n",
       "    <tr>\n",
       "      <th>id</th>\n",
       "      <th></th>\n",
       "      <th></th>\n",
       "      <th></th>\n",
       "    </tr>\n",
       "  </thead>\n",
       "  <tbody>\n",
       "    <tr>\n",
       "      <th>304754</th>\n",
       "      <td>2100</td>\n",
       "      <td>31/12/1912</td>\n",
       "      <td>Répartition des bénéfices : effectuée suivant ...</td>\n",
       "    </tr>\n",
       "    <tr>\n",
       "      <th>304770</th>\n",
       "      <td>148</td>\n",
       "      <td>31/12/1912</td>\n",
       "      <td>Répartition des bénéfices : effectuée suivant ...</td>\n",
       "    </tr>\n",
       "    <tr>\n",
       "      <th>304789</th>\n",
       "      <td>436</td>\n",
       "      <td>31/12/1912</td>\n",
       "      <td>Répartition des bénéfices : effectuée suivant ...</td>\n",
       "    </tr>\n",
       "    <tr>\n",
       "      <th>304815</th>\n",
       "      <td>3246</td>\n",
       "      <td>31/12/1912</td>\n",
       "      <td>Répartition des bénéfices : 5 % d'intérêt aux ...</td>\n",
       "    </tr>\n",
       "    <tr>\n",
       "      <th>304830</th>\n",
       "      <td>3524</td>\n",
       "      <td>31/12/1912</td>\n",
       "      <td>Répartition des bénéfices : 20 % à la réserve ...</td>\n",
       "    </tr>\n",
       "  </tbody>\n",
       "</table>\n",
       "</div>"
      ],
      "text/plain": [
       "        corporation    infodate  \\\n",
       "id                                \n",
       "304754         2100  31/12/1912   \n",
       "304770          148  31/12/1912   \n",
       "304789          436  31/12/1912   \n",
       "304815         3246  31/12/1912   \n",
       "304830         3524  31/12/1912   \n",
       "\n",
       "                                                    texte  \n",
       "id                                                         \n",
       "304754  Répartition des bénéfices : effectuée suivant ...  \n",
       "304770  Répartition des bénéfices : effectuée suivant ...  \n",
       "304789  Répartition des bénéfices : effectuée suivant ...  \n",
       "304815  Répartition des bénéfices : 5 % d'intérêt aux ...  \n",
       "304830  Répartition des bénéfices : 20 % à la réserve ...  "
      ]
     },
     "execution_count": 5,
     "metadata": {},
     "output_type": "execute_result"
    }
   ],
   "source": [
    "df_sources.set_index('id', inplace=True)\n",
    "df_sources.head()"
   ]
  },
  {
   "cell_type": "code",
   "execution_count": 6,
   "metadata": {},
   "outputs": [],
   "source": [
    "def cleanDate(date):\n",
    "    l = date.split('/')\n",
    "    if(len(l)==3):\n",
    "        return '{}-{}-{}'.format(l[2], l[1], l[0])\n",
    "    else:\n",
    "        return '2019-01-01' # deux observations n'ont pas de dates"
   ]
  },
  {
   "cell_type": "code",
   "execution_count": 7,
   "metadata": {},
   "outputs": [],
   "source": [
    "df_sources['infodate'] = df_sources.apply(lambda row: cleanDate(str(row.infodate)), axis=1)"
   ]
  },
  {
   "cell_type": "code",
   "execution_count": 8,
   "metadata": {},
   "outputs": [
    {
     "data": {
      "text/html": [
       "<div>\n",
       "<style scoped>\n",
       "    .dataframe tbody tr th:only-of-type {\n",
       "        vertical-align: middle;\n",
       "    }\n",
       "\n",
       "    .dataframe tbody tr th {\n",
       "        vertical-align: top;\n",
       "    }\n",
       "\n",
       "    .dataframe thead th {\n",
       "        text-align: right;\n",
       "    }\n",
       "</style>\n",
       "<table border=\"1\" class=\"dataframe\">\n",
       "  <thead>\n",
       "    <tr style=\"text-align: right;\">\n",
       "      <th></th>\n",
       "      <th>corporation</th>\n",
       "      <th>infodate</th>\n",
       "      <th>texte</th>\n",
       "    </tr>\n",
       "    <tr>\n",
       "      <th>id</th>\n",
       "      <th></th>\n",
       "      <th></th>\n",
       "      <th></th>\n",
       "    </tr>\n",
       "  </thead>\n",
       "  <tbody>\n",
       "    <tr>\n",
       "      <th>304754</th>\n",
       "      <td>2100</td>\n",
       "      <td>1912-12-31</td>\n",
       "      <td>Répartition des bénéfices : effectuée suivant ...</td>\n",
       "    </tr>\n",
       "    <tr>\n",
       "      <th>304770</th>\n",
       "      <td>148</td>\n",
       "      <td>1912-12-31</td>\n",
       "      <td>Répartition des bénéfices : effectuée suivant ...</td>\n",
       "    </tr>\n",
       "    <tr>\n",
       "      <th>304789</th>\n",
       "      <td>436</td>\n",
       "      <td>1912-12-31</td>\n",
       "      <td>Répartition des bénéfices : effectuée suivant ...</td>\n",
       "    </tr>\n",
       "    <tr>\n",
       "      <th>304815</th>\n",
       "      <td>3246</td>\n",
       "      <td>1912-12-31</td>\n",
       "      <td>Répartition des bénéfices : 5 % d'intérêt aux ...</td>\n",
       "    </tr>\n",
       "    <tr>\n",
       "      <th>304830</th>\n",
       "      <td>3524</td>\n",
       "      <td>1912-12-31</td>\n",
       "      <td>Répartition des bénéfices : 20 % à la réserve ...</td>\n",
       "    </tr>\n",
       "  </tbody>\n",
       "</table>\n",
       "</div>"
      ],
      "text/plain": [
       "        corporation    infodate  \\\n",
       "id                                \n",
       "304754         2100  1912-12-31   \n",
       "304770          148  1912-12-31   \n",
       "304789          436  1912-12-31   \n",
       "304815         3246  1912-12-31   \n",
       "304830         3524  1912-12-31   \n",
       "\n",
       "                                                    texte  \n",
       "id                                                         \n",
       "304754  Répartition des bénéfices : effectuée suivant ...  \n",
       "304770  Répartition des bénéfices : effectuée suivant ...  \n",
       "304789  Répartition des bénéfices : effectuée suivant ...  \n",
       "304815  Répartition des bénéfices : 5 % d'intérêt aux ...  \n",
       "304830  Répartition des bénéfices : 20 % à la réserve ...  "
      ]
     },
     "execution_count": 8,
     "metadata": {},
     "output_type": "execute_result"
    }
   ],
   "source": [
    "df_sources.head()"
   ]
  },
  {
   "cell_type": "code",
   "execution_count": 9,
   "metadata": {},
   "outputs": [],
   "source": [
    "df_sources.to_csv(SOURCES_CLEAN])"
   ]
  },
  {
   "cell_type": "code",
   "execution_count": null,
   "metadata": {},
   "outputs": [],
   "source": []
  }
 ],
 "metadata": {
  "kernelspec": {
   "display_name": "Python 3",
   "language": "python",
   "name": "python3"
  },
  "language_info": {
   "codemirror_mode": {
    "name": "ipython",
    "version": 3
   },
   "file_extension": ".py",
   "mimetype": "text/x-python",
   "name": "python",
   "nbconvert_exporter": "python",
   "pygments_lexer": "ipython3",
   "version": "3.6.3"
  }
 },
 "nbformat": 4,
 "nbformat_minor": 2
}
